{
 "cells": [
  {
   "cell_type": "markdown",
   "id": "fe66ff2a",
   "metadata": {},
   "source": [
    "#### Step 2: Methodology for labelling of a large scale dataset"
   ]
  },
  {
   "cell_type": "markdown",
   "id": "c174ba8d",
   "metadata": {},
   "source": [
    "##### Step 2.1: Preprocessing"
   ]
  },
  {
   "cell_type": "code",
   "execution_count": 4,
   "id": "38243919",
   "metadata": {},
   "outputs": [
    {
     "name": "stdout",
     "output_type": "stream",
     "text": [
      "Failed to download audio for YouTube ID: gCVHxguFzWQ. Error: Command 'yt-dlp -x --audio-format mp3 https://www.youtube.com/watch?v=gCVHxguFzWQ' returned non-zero exit status 1.\n",
      "Downloaded audio for YouTube ID: Lg17y6iz7Xs\n",
      "Downloaded audio for YouTube ID: JcW2p8nyrng\n",
      "Downloaded audio for YouTube ID: dwBG2CXDXcc\n",
      "Downloaded audio for YouTube ID: UuaARlicot8\n",
      "Downloaded audio for YouTube ID: yiypbCFV7Ao\n",
      "Failed to download audio for YouTube ID: 0hN8H5gqPG4. Error: Command 'yt-dlp -x --audio-format mp3 https://www.youtube.com/watch?v=0hN8H5gqPG4' returned non-zero exit status 1.\n",
      "Downloaded audio for YouTube ID: Cl7ff7hqAA0\n",
      "Downloaded audio for YouTube ID: oMbMwdPwnYE\n",
      "Downloaded audio for YouTube ID: qH9C9_WsmLA\n",
      "Downloaded audio for YouTube ID: n1Zay9SOYxA\n",
      "Downloaded audio for YouTube ID: 6wEM9KYgMx4\n",
      "Failed to download audio for YouTube ID: AcJamsBwsPM. Error: Command 'yt-dlp -x --audio-format mp3 https://www.youtube.com/watch?v=AcJamsBwsPM' returned non-zero exit status 1.\n",
      "Downloaded audio for YouTube ID: lSbg-ZoELAo\n",
      "Downloaded audio for YouTube ID: 2IfHLq0k6Q8\n",
      "Downloaded audio for YouTube ID: XpLKNclOtLg\n",
      "Downloaded audio for YouTube ID: zLrqyfkXt_A\n",
      "Failed to download audio for YouTube ID: _NV45ZuepZo. Error: Command 'yt-dlp -x --audio-format mp3 https://www.youtube.com/watch?v=_NV45ZuepZo' returned non-zero exit status 1.\n",
      "Downloaded audio for YouTube ID: cWeLiFAycR4\n",
      "Downloaded audio for YouTube ID: AgZ5goJibn0\n",
      "Downloaded audio for YouTube ID: aNQqoExfQsg\n",
      "Downloaded audio for YouTube ID: DR7GMGA5A_U\n",
      "Downloaded audio for YouTube ID: IiZ50_XsjS4\n",
      "Downloaded audio for YouTube ID: s7EdQ4FqbhY\n",
      "Downloaded audio for YouTube ID: jCNHQXLMye4\n",
      "Downloaded audio for YouTube ID: 4GJ9OTI4GSY\n",
      "Failed to download audio for YouTube ID: rqHsXSG6A0U. Error: Command 'yt-dlp -x --audio-format mp3 https://www.youtube.com/watch?v=rqHsXSG6A0U' returned non-zero exit status 1.\n",
      "Downloaded audio for YouTube ID: oOSnYt9k4kM\n",
      "Failed to download audio for YouTube ID: MhcgYHDTFjY. Error: Command 'yt-dlp -x --audio-format mp3 https://www.youtube.com/watch?v=MhcgYHDTFjY' returned non-zero exit status 1.\n",
      "Failed to download audio for YouTube ID: 8veVCS1vF54. Error: Command 'yt-dlp -x --audio-format mp3 https://www.youtube.com/watch?v=8veVCS1vF54' returned non-zero exit status 1.\n",
      "Downloaded audio for YouTube ID: NfRrEUz62Lw\n",
      "Failed to download audio for YouTube ID: JNNloERKTrI. Error: Command 'yt-dlp -x --audio-format mp3 https://www.youtube.com/watch?v=JNNloERKTrI' returned non-zero exit status 1.\n",
      "Downloaded audio for YouTube ID: ENrpGFroUbw\n",
      "Downloaded audio for YouTube ID: ZXNjdrYzxys\n",
      "Downloaded audio for YouTube ID: 9wjcbC-xn9g\n",
      "Downloaded audio for YouTube ID: xECEAPfdqic\n",
      "Downloaded audio for YouTube ID: QQqbpU-yEEA\n",
      "Downloaded audio for YouTube ID: 00-WPchnLTE\n",
      "Downloaded audio for YouTube ID: hVwPmQEugcw\n",
      "Failed to download audio for YouTube ID: RvgMIerTXl4. Error: Command 'yt-dlp -x --audio-format mp3 https://www.youtube.com/watch?v=RvgMIerTXl4' returned non-zero exit status 1.\n",
      "Downloaded audio for YouTube ID: 5wfMVdyDa_g\n",
      "Downloaded audio for YouTube ID: fWoyGukz1ag\n",
      "Downloaded audio for YouTube ID: mqTrjDsEg4g\n",
      "Downloaded audio for YouTube ID: GZwcZ8TBlaU\n",
      "Failed to download audio for YouTube ID: t067u2Jnks0. Error: Command 'yt-dlp -x --audio-format mp3 https://www.youtube.com/watch?v=t067u2Jnks0' returned non-zero exit status 1.\n",
      "Downloaded audio for YouTube ID: WawU4ouldxU\n",
      "Downloaded audio for YouTube ID: xKrfUAho5as\n",
      "Downloaded audio for YouTube ID: IzZSguDxGsk\n",
      "Downloaded audio for YouTube ID: neQX3mpG1j8\n",
      "Downloaded audio for YouTube ID: UH9OLQh46FY\n",
      "Downloaded audio for YouTube ID: rBGjUQJ_1Dc\n",
      "Failed to download audio for YouTube ID: NEMpSSOutfg. Error: Command 'yt-dlp -x --audio-format mp3 https://www.youtube.com/watch?v=NEMpSSOutfg' returned non-zero exit status 1.\n",
      "Downloaded audio for YouTube ID: GAZUbjttUPc\n",
      "Downloaded audio for YouTube ID: Y3iEgKjh3Nk\n",
      "Downloaded audio for YouTube ID: 2cT5Cg8H7ec\n",
      "Downloaded audio for YouTube ID: MUieGh1fHSI\n",
      "Downloaded audio for YouTube ID: hrn2PzAk6iw\n",
      "Downloaded audio for YouTube ID: YZyOxE04wnE\n",
      "Downloaded audio for YouTube ID: Y7tNVTmlkzg\n",
      "Downloaded audio for YouTube ID: U-xFypjUqTM\n",
      "Downloaded audio for YouTube ID: q4WceRNb7e0\n",
      "Failed to download audio for YouTube ID: XGypRYIyr0I. Error: Command 'yt-dlp -x --audio-format mp3 https://www.youtube.com/watch?v=XGypRYIyr0I' returned non-zero exit status 1.\n",
      "Downloaded audio for YouTube ID: UoISioGH52Y\n",
      "Downloaded audio for YouTube ID: X6sLIP3908w\n",
      "Downloaded audio for YouTube ID: KEDdaStz4kw\n",
      "Downloaded audio for YouTube ID: d3RSYSsgz3w\n",
      "Downloaded audio for YouTube ID: BzB_Qkl2Gec\n",
      "Failed to download audio for YouTube ID: Pz9ZnZ8d3Vs. Error: Command 'yt-dlp -x --audio-format mp3 https://www.youtube.com/watch?v=Pz9ZnZ8d3Vs' returned non-zero exit status 1.\n",
      "Downloaded audio for YouTube ID: eTFCFThbwbo\n",
      "Downloaded audio for YouTube ID: zBmEySbwGsk\n",
      "Downloaded audio for YouTube ID: JudjRVhIgns\n"
     ]
    }
   ],
   "source": [
    "import csv\n",
    "import subprocess\n",
    "\n",
    "# Function to read YouTube IDs from a CSV file\n",
    "def extract_youtube_ids(file_path):\n",
    "    youtube_ids = []\n",
    "    with open(file_path, 'r', newline='', encoding='utf-8') as csvfile:\n",
    "        reader = csv.DictReader(csvfile)\n",
    "        for row in reader:\n",
    "            youtube_id = row.get('youtubeId')\n",
    "            if youtube_id:\n",
    "                youtube_ids.append(youtube_id)\n",
    "    return youtube_ids\n",
    "\n",
    "# Function to construct and execute yt-dlp command for each YouTube ID\n",
    "def download_audios(youtube_ids):\n",
    "    for youtube_id in youtube_ids:\n",
    "        command = f\"yt-dlp -x --audio-format mp3 https://www.youtube.com/watch?v={youtube_id}\"\n",
    "        try:\n",
    "            subprocess.run(command, shell=True, check=True)\n",
    "            print(f\"Downloaded audio for YouTube ID: {youtube_id}\")\n",
    "        except subprocess.CalledProcessError as e:\n",
    "            print(f\"Failed to download audio for YouTube ID: {youtube_id}. Error: {e}\")\n",
    "\n",
    "def main():\n",
    "    csv_file_path = 'ml-youtube.csv'\n",
    "    youtube_ids = extract_youtube_ids(csv_file_path)\n",
    "    download_audios(youtube_ids)\n",
    "\n",
    "if __name__ == \"__main__\":\n",
    "    main()\n"
   ]
  },
  {
   "cell_type": "code",
   "execution_count": null,
   "id": "7efe7f87",
   "metadata": {},
   "outputs": [],
   "source": []
  }
 ],
 "metadata": {
  "kernelspec": {
   "display_name": "Python 3 (ipykernel)",
   "language": "python",
   "name": "python3"
  },
  "language_info": {
   "codemirror_mode": {
    "name": "ipython",
    "version": 3
   },
   "file_extension": ".py",
   "mimetype": "text/x-python",
   "name": "python",
   "nbconvert_exporter": "python",
   "pygments_lexer": "ipython3",
   "version": "3.9.12"
  }
 },
 "nbformat": 4,
 "nbformat_minor": 5
}
